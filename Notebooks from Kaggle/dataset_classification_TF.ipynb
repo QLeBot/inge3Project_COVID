{
 "cells": [
  {
   "attachments": {},
   "cell_type": "markdown",
   "metadata": {},
   "source": [
    "### Notebook from : https://www.kaggle.com/code/jiaowoguanren/sars-cov-2-ct-scan-dataset-classification-tf-0-99"
   ]
  },
  {
   "cell_type": "code",
   "execution_count": null,
   "metadata": {},
   "outputs": [],
   "source": [
    "%pip install split-folders"
   ]
  },
  {
   "cell_type": "code",
   "execution_count": 1,
   "metadata": {},
   "outputs": [],
   "source": [
    "import pandas as pd\n",
    "import numpy as np\n",
    "import matplotlib.pyplot as plt\n",
    "import seaborn as sns\n",
    "\n",
    "import cv2\n",
    "import pathlib, splitfolders\n",
    "import os\n",
    "\n",
    "from sklearn.metrics import confusion_matrix\n",
    "from sklearn.model_selection import train_test_split\n",
    "\n",
    "import tensorflow as tf\n",
    "from tensorflow.keras.preprocessing.image import ImageDataGenerator\n",
    "from tensorflow.keras.layers import *\n",
    "\n",
    "from keras.utils.np_utils import to_categorical\n",
    "from tensorflow.keras.preprocessing.image import ImageDataGenerator\n",
    "from tensorflow.keras.callbacks import  ReduceLROnPlateau\n",
    "from tensorflow.keras.optimizers import Adam\n",
    "from tensorflow.keras.preprocessing import image\n",
    "from tensorflow.keras.applications.vgg16 import VGG16"
   ]
  },
  {
   "attachments": {},
   "cell_type": "markdown",
   "metadata": {},
   "source": [
    "# USE OF SARSCOV2-CTSCAN-DATASET"
   ]
  },
  {
   "cell_type": "code",
   "execution_count": 2,
   "metadata": {},
   "outputs": [
    {
     "name": "stderr",
     "output_type": "stream",
     "text": [
      "Copying files: 2481 files [00:01, 1471.00 files/s]"
     ]
    },
    {
     "name": "stdout",
     "output_type": "stream",
     "text": [
      "Found 1736 images belonging to 2 classes.\n",
      "Found 371 images belonging to 2 classes.\n",
      "Found 374 images belonging to 2 classes.\n"
     ]
    },
    {
     "name": "stderr",
     "output_type": "stream",
     "text": [
      "\n"
     ]
    }
   ],
   "source": [
    "epochs = 30\n",
    "batch_size = 32\n",
    "img_height, img_width = 300, 300\n",
    "input_shape = (img_height, img_width, 3)\n",
    "\n",
    "def create_data_binary(data_bs):\n",
    "    data_bs = pathlib.Path(data_bs)\n",
    "    splitfolders.ratio(data_bs, output='../sarscov2-ctscan-dataset-splitted/', seed=1234, ratio=(0.7, 0.15, 0.15), group_prefix=None)\n",
    "    data_gen = ImageDataGenerator(rescale=1.0 / 255)\n",
    "    train_ds = data_gen.flow_from_directory('../sarscov2-ctscan-dataset-splitted/train/', target_size=(img_height, img_width),\n",
    "                                            class_mode='binary', batch_size=batch_size, subset='training')\n",
    "    val_ds = data_gen.flow_from_directory('../sarscov2-ctscan-dataset-splitted/val/', target_size=(img_height, img_width),\n",
    "                                          class_mode='binary', batch_size=batch_size, shuffle=False)\n",
    "    test_ds = data_gen.flow_from_directory('../sarscov2-ctscan-dataset-splitted/test/', target_size=(img_height, img_width),\n",
    "                                          class_mode='binary', batch_size=batch_size, shuffle=False)\n",
    "    return train_ds, val_ds, test_ds\n",
    "\n",
    "\n",
    "train_data, val_data, test_data = create_data_binary('../sarscov2-ctscan-dataset/')"
   ]
  },
  {
   "attachments": {},
   "cell_type": "markdown",
   "metadata": {},
   "source": [
    "# USE OF COVID-CT-master DATASET"
   ]
  },
  {
   "cell_type": "code",
   "execution_count": null,
   "metadata": {},
   "outputs": [],
   "source": [
    "epochs = 10\n",
    "batch_size = 32\n",
    "img_height, img_width = 150, 150\n",
    "input_shape = (img_height, img_width, 3)\n",
    "\n",
    "data_gen = ImageDataGenerator(rescale=1.0 / 255)\n",
    "\n",
    "\"\"\"\n",
    "train_datagen = ImageDataGenerator(rescale=1.0/255,\n",
    "                                  zoom_range=0.2,\n",
    "                                  width_shift_range=0.2,\n",
    "                                  height_shift_range=0.2,\n",
    "                                  fill_mode='nearest')\n",
    "\"\"\"\n",
    "                                  \n",
    "train_data = data_gen.flow_from_directory(\"../COVID-CT-master/Dataset/train/\",\n",
    "                                          target_size=(img_height, img_width),\n",
    "                                          batch_size = batch_size,\n",
    "                                          class_mode = 'binary',\n",
    "                                          subset='training')\n",
    "                                         \n",
    "test_data = data_gen.flow_from_directory(\"../COVID-CT-master/Dataset/test/\",\n",
    "                                          target_size=(img_height, img_width),\n",
    "                                          batch_size = batch_size,\n",
    "                                          class_mode = 'binary')\n",
    "\n",
    "val_data = data_gen.flow_from_directory(\"../COVID-CT-master/Dataset/val/\",\n",
    "                                          target_size=(img_height, img_width),\n",
    "                                          batch_size = batch_size,\n",
    "                                          class_mode = 'binary',\n",
    "                                          shuffle=False)"
   ]
  },
  {
   "attachments": {},
   "cell_type": "markdown",
   "metadata": {},
   "source": [
    "### Base Model CNN"
   ]
  },
  {
   "cell_type": "code",
   "execution_count": null,
   "metadata": {},
   "outputs": [],
   "source": [
    "class BaseModel(tf.keras.Model):\n",
    "    def __init__(self):\n",
    "        super(BaseModel, self).__init__()\n",
    "\n",
    "        self.C1 = Conv2D(32, (3 * 3), padding='same', input_shape = input_shape)\n",
    "        self.B1 = BatchNormalization()\n",
    "        self.A1 = Activation('relu')\n",
    "        self.P1 = MaxPooling2D(2, padding='same')\n",
    "        \n",
    "        self.C2 = Conv2D(32, (3 * 3), padding='same')\n",
    "        self.B2 = BatchNormalization()\n",
    "        self.A2 = Activation('relu')\n",
    "        self.P2 = MaxPooling2D(2, padding='same')\n",
    "        self.Dr1 = Dropout(0.3)\n",
    "        \n",
    "        self.C3 = Conv2D(32, (3 * 3), padding='same')\n",
    "        self.B3 = BatchNormalization()\n",
    "        self.A3 = Activation('relu')\n",
    "        self.P3 = MaxPooling2D(2, padding='same')\n",
    "        self.Dr2 = Dropout(0.3)\n",
    "        \n",
    "        self.F1 = Flatten()\n",
    "        self.D1 = Dense(256, activation='relu')\n",
    "        self.B4 = BatchNormalization()\n",
    "        self.D2 = Dense(256, activation='relu')\n",
    "        self.D3 = Dense(256, activation='relu')\n",
    "        self.D4 = Dense(256, activation='relu')\n",
    "        self.Dr3 = Dropout(0.3)\n",
    "        self.D5 = Dense(1, activation='sigmoid')\n",
    "        \n",
    "        \n",
    "    def call(self, x):\n",
    "        x = self.C1(x)\n",
    "        x = self.B1(x)\n",
    "        x = self.A1(x)\n",
    "        x = self.P1(x)\n",
    "        \n",
    "        x = self.C2(x)\n",
    "        x = self.B2(x)\n",
    "        x = self.A2(x)\n",
    "        x = self.P2(x)\n",
    "        x = self.Dr1(x)\n",
    "        \n",
    "        x = self.C3(x)\n",
    "        x = self.B3(x)\n",
    "        x = self.A3(x)\n",
    "        x = self.P3(x)\n",
    "        x = self.Dr2(x)\n",
    "        \n",
    "        x = self.F1(x)\n",
    "        x = self.D1(x)\n",
    "        x = self.B4(x)\n",
    "        x = self.D2(x)\n",
    "        x = self.D3(x)\n",
    "        x = self.D4(x)\n",
    "        x = self.Dr3(x)\n",
    "        y = self.D5(x)\n",
    "        \n",
    "        return y\n",
    "    \n",
    "    def __repr__(self):\n",
    "        name = 'Huang_Model'\n",
    "        return name\n",
    "    \n",
    "    \n",
    "net = BaseModel()\n",
    "\n",
    "net.compile(optimizer='adam',\n",
    "            loss='binary_crossentropy',\n",
    "            metrics=['accuracy'])\n",
    "\n",
    "checkpoint_save_path = './Model.ckpt'\n",
    "if os.path.exists(checkpoint_save_path + '.index'):\n",
    "    net.load_weights(checkpoint_save_path)\n",
    "\n",
    "cp_callback = tf.keras.callbacks.ModelCheckpoint(filepath=checkpoint_save_path, save_weights_only=True,\n",
    "                                                 save_best_only=True)\n",
    "\n",
    "#history = net.fit(train_data, epochs=30, batch_size=batch_size, callbacks=[cp_callback])\n",
    "history = net.fit(train_data, epochs=30, batch_size=batch_size)\n",
    "\n",
    "net.summary()\n",
    "\n",
    "file = open('./weights.txt', 'w')\n",
    "for v in net.trainable_variables:\n",
    "    file.write(str(v.name) + '\\n')\n",
    "    file.write(str(v.shape) + '\\n')\n",
    "    file.write(str(v.numpy()) + '\\n')\n",
    "\n",
    "file.close()"
   ]
  },
  {
   "cell_type": "code",
   "execution_count": 7,
   "metadata": {},
   "outputs": [
    {
     "name": "stdout",
     "output_type": "stream",
     "text": [
      "Epoch 1/20\n"
     ]
    },
    {
     "name": "stderr",
     "output_type": "stream",
     "text": [
      "2023-03-17 10:30:32.269407: I tensorflow/core/grappler/optimizers/custom_graph_optimizer_registry.cc:114] Plugin optimizer for device_type GPU is enabled.\n"
     ]
    },
    {
     "name": "stdout",
     "output_type": "stream",
     "text": [
      "55/55 [==============================] - ETA: 0s - loss: 0.5127 - accuracy: 0.7523"
     ]
    },
    {
     "name": "stderr",
     "output_type": "stream",
     "text": [
      "2023-03-17 10:31:15.815780: I tensorflow/core/grappler/optimizers/custom_graph_optimizer_registry.cc:114] Plugin optimizer for device_type GPU is enabled.\n"
     ]
    },
    {
     "name": "stdout",
     "output_type": "stream",
     "text": [
      "55/55 [==============================] - 47s 834ms/step - loss: 0.5127 - accuracy: 0.7523 - val_loss: 6.4742 - val_accuracy: 0.6253\n",
      "Epoch 2/20\n",
      "55/55 [==============================] - 48s 874ms/step - loss: 0.3561 - accuracy: 0.8468 - val_loss: 9.0036 - val_accuracy: 0.4987\n",
      "Epoch 3/20\n",
      "55/55 [==============================] - 54s 993ms/step - loss: 0.2687 - accuracy: 0.8865 - val_loss: 7.4976 - val_accuracy: 0.4906\n",
      "Epoch 4/20\n",
      "55/55 [==============================] - 55s 1000ms/step - loss: 0.2367 - accuracy: 0.9032 - val_loss: 1.0514 - val_accuracy: 0.7412\n",
      "Epoch 5/20\n",
      "55/55 [==============================] - 56s 1s/step - loss: 0.1840 - accuracy: 0.9257 - val_loss: 5.5191 - val_accuracy: 0.7224\n",
      "Epoch 6/20\n",
      "55/55 [==============================] - 56s 1s/step - loss: 0.1642 - accuracy: 0.9338 - val_loss: 2.6854 - val_accuracy: 0.7143\n",
      "Epoch 7/20\n",
      "55/55 [==============================] - 56s 1s/step - loss: 0.1337 - accuracy: 0.9430 - val_loss: 7.1277 - val_accuracy: 0.6712\n",
      "Epoch 8/20\n",
      "55/55 [==============================] - 56s 1s/step - loss: 0.1342 - accuracy: 0.9499 - val_loss: 1.7881 - val_accuracy: 0.7143\n",
      "Epoch 9/20\n",
      "55/55 [==============================] - 58s 1s/step - loss: 0.1165 - accuracy: 0.9539 - val_loss: 7.7906 - val_accuracy: 0.5040\n",
      "Epoch 10/20\n",
      "55/55 [==============================] - 56s 1s/step - loss: 0.0910 - accuracy: 0.9666 - val_loss: 2.9918 - val_accuracy: 0.5256\n",
      "Epoch 11/20\n",
      "55/55 [==============================] - 58s 1s/step - loss: 0.1159 - accuracy: 0.9574 - val_loss: 12.0584 - val_accuracy: 0.5040\n",
      "Epoch 12/20\n",
      "55/55 [==============================] - 61s 1s/step - loss: 0.1074 - accuracy: 0.9626 - val_loss: 2.1132 - val_accuracy: 0.7601\n",
      "Epoch 13/20\n",
      "55/55 [==============================] - 60s 1s/step - loss: 0.0900 - accuracy: 0.9637 - val_loss: 0.9446 - val_accuracy: 0.8275\n",
      "Epoch 14/20\n",
      "55/55 [==============================] - 60s 1s/step - loss: 0.0652 - accuracy: 0.9775 - val_loss: 2.5569 - val_accuracy: 0.7170\n",
      "Epoch 15/20\n",
      "55/55 [==============================] - 59s 1s/step - loss: 0.0519 - accuracy: 0.9816 - val_loss: 0.8125 - val_accuracy: 0.8032\n",
      "Epoch 16/20\n",
      "55/55 [==============================] - 60s 1s/step - loss: 0.0688 - accuracy: 0.9729 - val_loss: 0.6927 - val_accuracy: 0.8005\n",
      "Epoch 17/20\n",
      "55/55 [==============================] - 60s 1s/step - loss: 0.0504 - accuracy: 0.9827 - val_loss: 5.4589 - val_accuracy: 0.5175\n",
      "Epoch 18/20\n",
      "55/55 [==============================] - 60s 1s/step - loss: 0.0267 - accuracy: 0.9914 - val_loss: 3.2339 - val_accuracy: 0.5876\n",
      "Epoch 19/20\n",
      "55/55 [==============================] - 56s 1s/step - loss: 0.0562 - accuracy: 0.9810 - val_loss: 4.2504 - val_accuracy: 0.5094\n",
      "Epoch 20/20\n",
      "55/55 [==============================] - 59s 1s/step - loss: 0.0294 - accuracy: 0.9896 - val_loss: 0.3286 - val_accuracy: 0.9380\n",
      "Model: \"sequential_2\"\n",
      "_________________________________________________________________\n",
      " Layer (type)                Output Shape              Param #   \n",
      "=================================================================\n",
      " conv2d_6 (Conv2D)           (None, 300, 300, 32)      7808      \n",
      "                                                                 \n",
      " batch_normalization_8 (Batc  (None, 300, 300, 32)     128       \n",
      " hNormalization)                                                 \n",
      "                                                                 \n",
      " activation_6 (Activation)   (None, 300, 300, 32)      0         \n",
      "                                                                 \n",
      " max_pooling2d_6 (MaxPooling  (None, 150, 150, 32)     0         \n",
      " 2D)                                                             \n",
      "                                                                 \n",
      " conv2d_7 (Conv2D)           (None, 150, 150, 32)      82976     \n",
      "                                                                 \n",
      " batch_normalization_9 (Batc  (None, 150, 150, 32)     128       \n",
      " hNormalization)                                                 \n",
      "                                                                 \n",
      " activation_7 (Activation)   (None, 150, 150, 32)      0         \n",
      "                                                                 \n",
      " max_pooling2d_7 (MaxPooling  (None, 75, 75, 32)       0         \n",
      " 2D)                                                             \n",
      "                                                                 \n",
      " dropout_6 (Dropout)         (None, 75, 75, 32)        0         \n",
      "                                                                 \n",
      " conv2d_8 (Conv2D)           (None, 75, 75, 32)        82976     \n",
      "                                                                 \n",
      " batch_normalization_10 (Bat  (None, 75, 75, 32)       128       \n",
      " chNormalization)                                                \n",
      "                                                                 \n",
      " activation_8 (Activation)   (None, 75, 75, 32)        0         \n",
      "                                                                 \n",
      " max_pooling2d_8 (MaxPooling  (None, 38, 38, 32)       0         \n",
      " 2D)                                                             \n",
      "                                                                 \n",
      " dropout_7 (Dropout)         (None, 38, 38, 32)        0         \n",
      "                                                                 \n",
      " flatten_2 (Flatten)         (None, 46208)             0         \n",
      "                                                                 \n",
      " dense_10 (Dense)            (None, 256)               11829504  \n",
      "                                                                 \n",
      " batch_normalization_11 (Bat  (None, 256)              1024      \n",
      " chNormalization)                                                \n",
      "                                                                 \n",
      " dense_11 (Dense)            (None, 256)               65792     \n",
      "                                                                 \n",
      " dense_12 (Dense)            (None, 256)               65792     \n",
      "                                                                 \n",
      " dense_13 (Dense)            (None, 256)               65792     \n",
      "                                                                 \n",
      " dropout_8 (Dropout)         (None, 256)               0         \n",
      "                                                                 \n",
      " dense_14 (Dense)            (None, 1)                 257       \n",
      "                                                                 \n",
      "=================================================================\n",
      "Total params: 12,202,305\n",
      "Trainable params: 12,201,601\n",
      "Non-trainable params: 704\n",
      "_________________________________________________________________\n"
     ]
    }
   ],
   "source": [
    "net = tf.keras.Sequential(\n",
    "    [\n",
    "        Conv2D(32, (3 * 3), padding='same', input_shape = input_shape),\n",
    "        BatchNormalization(),\n",
    "        Activation('relu'),\n",
    "        MaxPooling2D(2, padding='same'),\n",
    "\n",
    "        Conv2D(32, (3 * 3), padding='same'),\n",
    "        BatchNormalization(),\n",
    "        Activation('relu'),\n",
    "        MaxPooling2D(2, padding='same'),\n",
    "        Dropout(0.3),\n",
    "\n",
    "        Conv2D(32, (3 * 3), padding='same'),\n",
    "        BatchNormalization(),\n",
    "        Activation('relu'),\n",
    "        MaxPooling2D(2, padding='same'),\n",
    "        Dropout(0.3),\n",
    "\n",
    "        Flatten(),\n",
    "        Dense(256, activation='relu'),\n",
    "        BatchNormalization(),\n",
    "        Dense(256, activation='relu'),\n",
    "        Dense(256, activation='relu'),\n",
    "        Dense(256, activation='relu'),\n",
    "        Dropout(0.3),\n",
    "        Dense(1, activation='sigmoid')\n",
    "    ]\n",
    ")\n",
    "\n",
    "net.compile(optimizer='adam',\n",
    "            loss='binary_crossentropy',\n",
    "            metrics=['accuracy'])\n",
    "\n",
    "# Define the callbacks\n",
    "#early_stop = EarlyStopping(monitor='val_loss', patience=3, restore_best_weights=True)\n",
    "#checkpoint = ModelCheckpoint(filepath='model_checkpoint.h5', save_best_only=True, save_weights_only=True)\n",
    "\n",
    "history = net.fit(train_data, epochs=20, batch_size=batch_size, validation_data=val_data)\n",
    "#history = net.fit(train_data, epochs=epochs, validation_data=val_data, callbacks=[early_stop, checkpoint])\n",
    "\n",
    "net.summary()"
   ]
  },
  {
   "cell_type": "code",
   "execution_count": 8,
   "metadata": {},
   "outputs": [
    {
     "name": "stdout",
     "output_type": "stream",
     "text": [
      "12/12 [==============================] - 4s 302ms/step - loss: 0.3787 - accuracy: 0.9225\n",
      "Test loss: 0.379\n",
      "Test accuracy: 0.922\n"
     ]
    }
   ],
   "source": [
    "test_loss, test_acc = net.evaluate(test_data)\n",
    "print(\"Test loss: %.3f\" % test_loss)\n",
    "print(\"Test accuracy: %.3f\" % test_acc)"
   ]
  },
  {
   "attachments": {},
   "cell_type": "markdown",
   "metadata": {},
   "source": [
    "### VGG16 CNN"
   ]
  },
  {
   "cell_type": "code",
   "execution_count": null,
   "metadata": {},
   "outputs": [],
   "source": [
    "# Load the VGG16 model with pre-trained weights\n",
    "vgg16_model = VGG16(weights='imagenet', include_top=False, input_shape=input_shape)\n",
    "\n",
    "# Freeze the pre-trained layers in the model\n",
    "for layer in vgg16_model.layers:\n",
    "    layer.trainable = False\n",
    "\n",
    "# Add a new classifier on top of the pre-trained model\n",
    "model = tf.keras.Sequential([\n",
    "    vgg16_model,\n",
    "    Flatten(),\n",
    "    Dense(256, activation='relu'),\n",
    "    Dropout(0.5),\n",
    "    Dense(1, activation='sigmoid')\n",
    "])\n",
    "\n",
    "# Compile the model with binary crossentropy loss and Adam optimizer\n",
    "model.compile(loss='binary_crossentropy',\n",
    "              optimizer=tf.keras.optimizers.Adam(learning_rate=1e-4),\n",
    "              metrics=['accuracy'])\n",
    "\n",
    "# Define the callbacks\n",
    "early_stop = EarlyStopping(monitor='val_loss', patience=3, restore_best_weights=True)\n",
    "checkpoint = ModelCheckpoint(filepath='model_checkpoint.h5', save_best_only=True, save_weights_only=True)\n",
    "\n",
    "# Train the model with the training data and validate on the validation data\n",
    "history = model.fit(train_data, epochs=10, validation_data=val_data)\n",
    "#history = model.fit(train_data, epochs=epochs, validation_data=val_data, callbacks=[early_stop, checkpoint])"
   ]
  },
  {
   "attachments": {},
   "cell_type": "markdown",
   "metadata": {},
   "source": [
    "### Accuracy and Loss graphs"
   ]
  },
  {
   "cell_type": "code",
   "execution_count": 6,
   "metadata": {},
   "outputs": [
    {
     "data": {
      "image/png": "[encoded data removed]",
      "text/plain": [
       "<Figure size 1200x600 with 2 Axes>"
      ]
     },
     "metadata": {},
     "output_type": "display_data"
    }
   ],
   "source": [
    "acc = history.history['accuracy']\n",
    "loss = history.history['loss']\n",
    "\n",
    "plt.figure(figsize=(12, 6))\n",
    "plt.subplot(1, 2, 1)\n",
    "plt.plot(acc)\n",
    "plt.title('Training Acc')\n",
    "\n",
    "plt.subplot(1, 2, 2)\n",
    "plt.plot(loss)\n",
    "plt.title('Training Loss')\n",
    "plt.show()"
   ]
  },
  {
   "cell_type": "code",
   "execution_count": null,
   "metadata": {},
   "outputs": [],
   "source": [
    "test_loss, test_acc = model.evaluate(test_data)\n",
    "print(\"Test loss: %.3f\" % test_loss)\n",
    "print(\"Test accuracy: %.3f\" % test_acc)"
   ]
  }
 ],
 "metadata": {
  "kernelspec": {
   "display_name": "tensorflow",
   "language": "python",
   "name": "python3"
  },
  "language_info": {
   "codemirror_mode": {
    "name": "ipython",
    "version": 3
   },
   "file_extension": ".py",
   "mimetype": "text/x-python",
   "name": "python",
   "nbconvert_exporter": "python",
   "pygments_lexer": "ipython3",
   "version": "3.10.6"
  },
  "orig_nbformat": 4
 },
 "nbformat": 4,
 "nbformat_minor": 2
}
