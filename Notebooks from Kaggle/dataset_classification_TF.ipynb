{
 "cells": [
  {
   "attachments": {},
   "cell_type": "markdown",
   "metadata": {},
   "source": [
    "### Notebook from : https://www.kaggle.com/code/jiaowoguanren/sars-cov-2-ct-scan-dataset-classification-tf-0-99"
   ]
  },
  {
   "cell_type": "code",
   "execution_count": 28,
   "metadata": {},
   "outputs": [],
   "source": [
    "# This Python 3 environment comes with many helpful analytics libraries installed\n",
    "# It is defined by the kaggle/python Docker image: https://github.com/kaggle/docker-python\n",
    "# For example, here's several helpful packages to load\n",
    "\n",
    "import numpy as np # linear algebra\n",
    "import pandas as pd # data processing, CSV file I/O (e.g. pd.read_csv)\n",
    "\n",
    "# Input data files are available in the read-only \"../input/\" directory\n",
    "# For example, running this (by clicking run or pressing Shift+Enter) will list all files under the input directory\n",
    "\n",
    "import os\n",
    "for dirname, _, filenames in os.walk('/kaggle/input'):\n",
    "    for filename in filenames:\n",
    "        print(os.path.join(dirname, filename))\n",
    "\n",
    "# You can write up to 20GB to the current directory (/kaggle/working/) that gets preserved as output when you create a version using \"Save & Run All\" \n",
    "# You can also write temporary files to /kaggle/temp/, but they won't be saved outside of the current session"
   ]
  },
  {
   "cell_type": "code",
   "execution_count": 29,
   "metadata": {},
   "outputs": [
    {
     "name": "stdout",
     "output_type": "stream",
     "text": [
      "Requirement already satisfied: split-folders in /opt/homebrew/Caskroom/miniforge/base/envs/tensorflow/lib/python3.10/site-packages (0.5.1)\n"
     ]
    }
   ],
   "source": [
    "!pip install split-folders\n",
    "import tensorflow as tf\n",
    "import cv2, pathlib, splitfolders\n",
    "from tensorflow.keras.preprocessing.image import ImageDataGenerator\n",
    "from tensorflow.keras.layers import *\n",
    "import matplotlib.pyplot as plt\n",
    "import pandas as pd\n",
    "import numpy as np"
   ]
  },
  {
   "attachments": {},
   "cell_type": "markdown",
   "metadata": {},
   "source": [
    "# USE OF SARSCOV2-CTSCAN-DATASET"
   ]
  },
  {
   "cell_type": "code",
   "execution_count": 17,
   "metadata": {},
   "outputs": [
    {
     "name": "stderr",
     "output_type": "stream",
     "text": [
      "Copying files: 2481 files [00:01, 2105.18 files/s]\n"
     ]
    },
    {
     "name": "stdout",
     "output_type": "stream",
     "text": [
      "Found 1736 images belonging to 2 classes.\n",
      "Found 371 images belonging to 2 classes.\n"
     ]
    }
   ],
   "source": [
    "epochs = 30\n",
    "batch_size = 32\n",
    "img_height, img_width = 300, 300\n",
    "input_shape = (img_height, img_width, 3)\n",
    "\n",
    "def create_data_binary(data_bs):\n",
    "    data_bs = pathlib.Path(data_bs)\n",
    "    splitfolders.ratio(data_bs, output='../sarscov2-ctscan-dataset-splitted/', seed=1234, ratio=(0.7, 0.15, 0.15), group_prefix=None)\n",
    "    data_gen = ImageDataGenerator(rescale=1.0 / 255)\n",
    "    train_ds = data_gen.flow_from_directory('../sarscov2-ctscan-dataset-splitted/train/', target_size=(img_height, img_width),\n",
    "                                            class_mode='binary', batch_size=batch_size, subset='training')\n",
    "    val_ds = data_gen.flow_from_directory('../sarscov2-ctscan-dataset-splitted/val/', target_size=(img_height, img_width),\n",
    "                                          class_mode='binary', batch_size=batch_size, shuffle=False)\n",
    "\n",
    "    return train_ds, val_ds\n",
    "\n",
    "\n",
    "train_data, val_data = create_data_binary('../sarscov2-ctscan-dataset/')"
   ]
  },
  {
   "attachments": {},
   "cell_type": "markdown",
   "metadata": {},
   "source": [
    "# USE OF COVID-CT-master DATASET"
   ]
  },
  {
   "cell_type": "code",
   "execution_count": 30,
   "metadata": {},
   "outputs": [
    {
     "name": "stdout",
     "output_type": "stream",
     "text": [
      "Found 425 images belonging to 2 classes.\n",
      "Found 203 images belonging to 2 classes.\n",
      "Found 118 images belonging to 2 classes.\n"
     ]
    }
   ],
   "source": [
    "epochs = 30\n",
    "batch_size = 32\n",
    "img_height, img_width = 150, 150\n",
    "input_shape = (img_height, img_width, 3)\n",
    "\n",
    "data_gen = ImageDataGenerator(rescale=1.0 / 255)\n",
    "\n",
    "\"\"\"\n",
    "train_datagen = ImageDataGenerator(rescale=1.0/255,\n",
    "                                  zoom_range=0.2,\n",
    "                                  width_shift_range=0.2,\n",
    "                                  height_shift_range=0.2,\n",
    "                                  fill_mode='nearest')\n",
    "\"\"\"\n",
    "                                  \n",
    "train_data = data_gen.flow_from_directory(\"../COVID-CT-master/Dataset/train/\",\n",
    "                                          target_size=(img_height, img_width),\n",
    "                                          batch_size = batch_size,\n",
    "                                          class_mode = 'binary',\n",
    "                                          subset='training')\n",
    "                                         \n",
    "test_data = data_gen.flow_from_directory(\"../COVID-CT-master/Dataset/test/\",\n",
    "                                          target_size=(img_height, img_width),\n",
    "                                          batch_size = batch_size,\n",
    "                                          class_mode = 'binary')\n",
    "\n",
    "val_data = data_gen.flow_from_directory(\"../COVID-CT-master/Dataset/val/\",\n",
    "                                          target_size=(img_height, img_width),\n",
    "                                          batch_size = batch_size,\n",
    "                                          class_mode = 'binary',\n",
    "                                          shuffle=False)"
   ]
  },
  {
   "cell_type": "code",
   "execution_count": 33,
   "metadata": {},
   "outputs": [
    {
     "name": "stdout",
     "output_type": "stream",
     "text": [
      "Epoch 1/30\n"
     ]
    },
    {
     "name": "stderr",
     "output_type": "stream",
     "text": [
      "2023-03-12 13:45:51.698286: I tensorflow/core/grappler/optimizers/custom_graph_optimizer_registry.cc:114] Plugin optimizer for device_type GPU is enabled.\n"
     ]
    },
    {
     "name": "stdout",
     "output_type": "stream",
     "text": [
      "14/14 [==============================] - 4s 202ms/step - loss: 0.6485 - accuracy: 0.6282\n",
      "Epoch 2/30\n",
      "14/14 [==============================] - 3s 178ms/step - loss: 0.5371 - accuracy: 0.7012\n",
      "Epoch 3/30\n",
      "14/14 [==============================] - 3s 177ms/step - loss: 0.4386 - accuracy: 0.7953\n",
      "Epoch 4/30\n",
      "14/14 [==============================] - 3s 177ms/step - loss: 0.4249 - accuracy: 0.8141\n",
      "Epoch 5/30\n",
      "14/14 [==============================] - 3s 178ms/step - loss: 0.4399 - accuracy: 0.7929\n",
      "Epoch 6/30\n",
      "14/14 [==============================] - 3s 177ms/step - loss: 0.3984 - accuracy: 0.8259\n",
      "Epoch 7/30\n",
      "14/14 [==============================] - 3s 178ms/step - loss: 0.2837 - accuracy: 0.8753\n",
      "Epoch 8/30\n",
      "14/14 [==============================] - 3s 177ms/step - loss: 0.2708 - accuracy: 0.8635\n",
      "Epoch 9/30\n",
      "14/14 [==============================] - 3s 173ms/step - loss: 0.2911 - accuracy: 0.8565\n",
      "Epoch 10/30\n",
      "14/14 [==============================] - 3s 177ms/step - loss: 0.2574 - accuracy: 0.8918\n",
      "Epoch 11/30\n",
      "14/14 [==============================] - 3s 176ms/step - loss: 0.2798 - accuracy: 0.8753\n",
      "Epoch 12/30\n",
      "14/14 [==============================] - 3s 175ms/step - loss: 0.2346 - accuracy: 0.8988\n",
      "Epoch 13/30\n",
      "14/14 [==============================] - 3s 179ms/step - loss: 0.2187 - accuracy: 0.9106\n",
      "Epoch 14/30\n",
      "14/14 [==============================] - 3s 176ms/step - loss: 0.1463 - accuracy: 0.9529\n",
      "Epoch 15/30\n",
      "14/14 [==============================] - 3s 177ms/step - loss: 0.1908 - accuracy: 0.9153\n",
      "Epoch 16/30\n",
      "14/14 [==============================] - 3s 177ms/step - loss: 0.1765 - accuracy: 0.9388\n",
      "Epoch 17/30\n",
      "14/14 [==============================] - 3s 179ms/step - loss: 0.1925 - accuracy: 0.9365\n",
      "Epoch 18/30\n",
      "14/14 [==============================] - 3s 177ms/step - loss: 0.1659 - accuracy: 0.9482\n",
      "Epoch 19/30\n",
      "14/14 [==============================] - 3s 177ms/step - loss: 0.1071 - accuracy: 0.9576\n",
      "Epoch 20/30\n",
      "14/14 [==============================] - 3s 178ms/step - loss: 0.1046 - accuracy: 0.9553\n",
      "Epoch 21/30\n",
      "14/14 [==============================] - 3s 188ms/step - loss: 0.0954 - accuracy: 0.9671\n",
      "Epoch 22/30\n",
      "14/14 [==============================] - 3s 176ms/step - loss: 0.1182 - accuracy: 0.9624\n",
      "Epoch 23/30\n",
      "14/14 [==============================] - 3s 177ms/step - loss: 0.1672 - accuracy: 0.9365\n",
      "Epoch 24/30\n",
      "14/14 [==============================] - 3s 179ms/step - loss: 0.1650 - accuracy: 0.9271\n",
      "Epoch 25/30\n",
      "14/14 [==============================] - 3s 179ms/step - loss: 0.1516 - accuracy: 0.9553\n",
      "Epoch 26/30\n",
      "14/14 [==============================] - 3s 176ms/step - loss: 0.0833 - accuracy: 0.9765\n",
      "Epoch 27/30\n",
      "14/14 [==============================] - 3s 177ms/step - loss: 0.0736 - accuracy: 0.9741\n",
      "Epoch 28/30\n",
      "14/14 [==============================] - 3s 177ms/step - loss: 0.0968 - accuracy: 0.9600\n",
      "Epoch 29/30\n",
      "14/14 [==============================] - 3s 178ms/step - loss: 0.1274 - accuracy: 0.9529\n",
      "Epoch 30/30\n",
      "14/14 [==============================] - 3s 177ms/step - loss: 0.0886 - accuracy: 0.9671\n",
      "Model: \"base_model_4\"\n",
      "_________________________________________________________________\n",
      " Layer (type)                Output Shape              Param #   \n",
      "=================================================================\n",
      " conv2d_12 (Conv2D)          multiple                  7808      \n",
      "                                                                 \n",
      " batch_normalization_16 (Bat  multiple                 128       \n",
      " chNormalization)                                                \n",
      "                                                                 \n",
      " activation_12 (Activation)  multiple                  0         \n",
      "                                                                 \n",
      " max_pooling2d_12 (MaxPoolin  multiple                 0         \n",
      " g2D)                                                            \n",
      "                                                                 \n",
      " conv2d_13 (Conv2D)          multiple                  82976     \n",
      "                                                                 \n",
      " batch_normalization_17 (Bat  multiple                 128       \n",
      " chNormalization)                                                \n",
      "                                                                 \n",
      " activation_13 (Activation)  multiple                  0         \n",
      "                                                                 \n",
      " max_pooling2d_13 (MaxPoolin  multiple                 0         \n",
      " g2D)                                                            \n",
      "                                                                 \n",
      " dropout_12 (Dropout)        multiple                  0         \n",
      "                                                                 \n",
      " conv2d_14 (Conv2D)          multiple                  82976     \n",
      "                                                                 \n",
      " batch_normalization_18 (Bat  multiple                 128       \n",
      " chNormalization)                                                \n",
      "                                                                 \n",
      " activation_14 (Activation)  multiple                  0         \n",
      "                                                                 \n",
      " max_pooling2d_14 (MaxPoolin  multiple                 0         \n",
      " g2D)                                                            \n",
      "                                                                 \n",
      " dropout_13 (Dropout)        multiple                  0         \n",
      "                                                                 \n",
      " flatten_4 (Flatten)         multiple                  0         \n",
      "                                                                 \n",
      " dense_20 (Dense)            multiple                  2957568   \n",
      "                                                                 \n",
      " batch_normalization_19 (Bat  multiple                 1024      \n",
      " chNormalization)                                                \n",
      "                                                                 \n",
      " dense_21 (Dense)            multiple                  65792     \n",
      "                                                                 \n",
      " dense_22 (Dense)            multiple                  65792     \n",
      "                                                                 \n",
      " dense_23 (Dense)            multiple                  65792     \n",
      "                                                                 \n",
      " dropout_14 (Dropout)        multiple                  0         \n",
      "                                                                 \n",
      " dense_24 (Dense)            multiple                  257       \n",
      "                                                                 \n",
      "=================================================================\n",
      "Total params: 3,330,369\n",
      "Trainable params: 3,329,665\n",
      "Non-trainable params: 704\n",
      "_________________________________________________________________\n"
     ]
    }
   ],
   "source": [
    "class BaseModel(tf.keras.Model):\n",
    "    def __init__(self):\n",
    "        super(BaseModel, self).__init__()\n",
    "\n",
    "        self.C1 = Conv2D(32, (3 * 3), padding='same', input_shape = input_shape)\n",
    "        self.B1 = BatchNormalization()\n",
    "        self.A1 = Activation('relu')\n",
    "        self.P1 = MaxPooling2D(2, padding='same')\n",
    "        \n",
    "        self.C2 = Conv2D(32, (3 * 3), padding='same')\n",
    "        self.B2 = BatchNormalization()\n",
    "        self.A2 = Activation('relu')\n",
    "        self.P2 = MaxPooling2D(2, padding='same')\n",
    "        self.Dr1 = Dropout(0.3)\n",
    "        \n",
    "        self.C3 = Conv2D(32, (3 * 3), padding='same')\n",
    "        self.B3 = BatchNormalization()\n",
    "        self.A3 = Activation('relu')\n",
    "        self.P3 = MaxPooling2D(2, padding='same')\n",
    "        self.Dr2 = Dropout(0.3)\n",
    "        \n",
    "        self.F1 = Flatten()\n",
    "        self.D1 = Dense(256, activation='relu')\n",
    "        self.B4 = BatchNormalization()\n",
    "        self.D2 = Dense(256, activation='relu')\n",
    "        self.D3 = Dense(256, activation='relu')\n",
    "        self.D4 = Dense(256, activation='relu')\n",
    "        self.Dr3 = Dropout(0.3)\n",
    "        self.D5 = Dense(1, activation='sigmoid')\n",
    "        \n",
    "        \n",
    "    def call(self, x):\n",
    "        x = self.C1(x)\n",
    "        x = self.B1(x)\n",
    "        x = self.A1(x)\n",
    "        x = self.P1(x)\n",
    "        \n",
    "        x = self.C2(x)\n",
    "        x = self.B2(x)\n",
    "        x = self.A2(x)\n",
    "        x = self.P2(x)\n",
    "        x = self.Dr1(x)\n",
    "        \n",
    "        x = self.C3(x)\n",
    "        x = self.B3(x)\n",
    "        x = self.A3(x)\n",
    "        x = self.P3(x)\n",
    "        x = self.Dr2(x)\n",
    "        \n",
    "        x = self.F1(x)\n",
    "        x = self.D1(x)\n",
    "        x = self.B4(x)\n",
    "        x = self.D2(x)\n",
    "        x = self.D3(x)\n",
    "        x = self.D4(x)\n",
    "        x = self.Dr3(x)\n",
    "        y = self.D5(x)\n",
    "        \n",
    "        return y\n",
    "    \n",
    "    def __repr__(self):\n",
    "        name = 'Huang_Model'\n",
    "        return name\n",
    "    \n",
    "    \n",
    "net = BaseModel()\n",
    "\n",
    "net.compile(optimizer='adam',\n",
    "            loss='binary_crossentropy',\n",
    "            metrics=['accuracy'])\n",
    "\n",
    "checkpoint_save_path = './Model.ckpt'\n",
    "if os.path.exists(checkpoint_save_path + '.index'):\n",
    "    net.load_weights(checkpoint_save_path)\n",
    "\n",
    "cp_callback = tf.keras.callbacks.ModelCheckpoint(filepath=checkpoint_save_path, save_weights_only=True,\n",
    "                                                 save_best_only=True)\n",
    "\n",
    "#history = net.fit(train_data, epochs=30, batch_size=batch_size, callbacks=[cp_callback])\n",
    "history = net.fit(train_data, epochs=30, batch_size=batch_size)\n",
    "\n",
    "net.summary()\n",
    "\n",
    "file = open('./weights.txt', 'w')\n",
    "for v in net.trainable_variables:\n",
    "    file.write(str(v.name) + '\\n')\n",
    "    file.write(str(v.shape) + '\\n')\n",
    "    file.write(str(v.numpy()) + '\\n')\n",
    "\n",
    "file.close()"
   ]
  },
  {
   "cell_type": "code",
   "execution_count": 34,
   "metadata": {},
   "outputs": [
    {
     "data": {
      "image/png": "[encoded data removed]",
      "text/plain": [
       "<Figure size 1200x600 with 2 Axes>"
      ]
     },
     "metadata": {},
     "output_type": "display_data"
    }
   ],
   "source": [
    "acc = history.history['accuracy']\n",
    "loss = history.history['loss']\n",
    "\n",
    "plt.figure(figsize=(12, 6))\n",
    "plt.subplot(1, 2, 1)\n",
    "plt.plot(acc)\n",
    "plt.title('Training Acc')\n",
    "\n",
    "plt.subplot(1, 2, 2)\n",
    "plt.plot(loss)\n",
    "plt.title('Training Loss')\n",
    "plt.show()"
   ]
  }
 ],
 "metadata": {
  "kernelspec": {
   "display_name": "tensorflow",
   "language": "python",
   "name": "python3"
  },
  "language_info": {
   "codemirror_mode": {
    "name": "ipython",
    "version": 3
   },
   "file_extension": ".py",
   "mimetype": "text/x-python",
   "name": "python",
   "nbconvert_exporter": "python",
   "pygments_lexer": "ipython3",
   "version": "3.10.6"
  },
  "orig_nbformat": 4
 },
 "nbformat": 4,
 "nbformat_minor": 2
}
