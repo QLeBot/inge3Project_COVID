{
 "cells": [
  {
   "cell_type": "code",
   "execution_count": 26,
   "metadata": {},
   "outputs": [],
   "source": [
    "import tensorflow as tf\n",
    "import numpy as np\n",
    "import seaborn as sns\n",
    "from tensorflow import keras\n",
    "import os\n",
    "from tensorflow.keras.preprocessing.image import ImageDataGenerator\n",
    "from tensorflow.keras.preprocessing import image\n",
    "import matplotlib.pyplot as plt\n",
    "from sklearn.metrics import confusion_matrix"
   ]
  },
  {
   "cell_type": "code",
   "execution_count": 27,
   "metadata": {},
   "outputs": [
    {
     "name": "stdout",
     "output_type": "stream",
     "text": [
      "Found 425 images belonging to 2 classes.\n",
      "Found 203 images belonging to 2 classes.\n",
      "Found 118 images belonging to 2 classes.\n"
     ]
    }
   ],
   "source": [
    "# Define the image data generators\n",
    "train_datagen = ImageDataGenerator(rescale=1./255)\n",
    "val_datagen = ImageDataGenerator(rescale=1./255)\n",
    "test_datagen = ImageDataGenerator(rescale=1./255)\n",
    "\n",
    "train_generator = train_datagen.flow_from_directory(\"COVID-CT-master/Dataset/train/\",\n",
    "                                          target_size=(150,150),\n",
    "                                          batch_size = 32,\n",
    "                                          class_mode = 'binary')\n",
    "                                         \n",
    "test_generator = test_datagen.flow_from_directory(\"COVID-CT-master/Dataset/test/\",\n",
    "                                          target_size=(150,150),\n",
    "                                          batch_size =32,\n",
    "                                          class_mode = 'binary')\n",
    "\n",
    "val_generator = val_datagen.flow_from_directory(\"COVID-CT-master/Dataset/val/\",\n",
    "                                          target_size=(150,150),\n",
    "                                          batch_size =32,\n",
    "                                          class_mode = 'binary')"
   ]
  },
  {
   "attachments": {},
   "cell_type": "markdown",
   "metadata": {},
   "source": [
    "### Extract X_train, y_train, X_test, y_test for a part of the data. NO LOOP OVER GENERATOR"
   ]
  },
  {
   "cell_type": "code",
   "execution_count": 28,
   "metadata": {},
   "outputs": [],
   "source": [
    "# Extract the X_train and y_train arrays from the training generator\n",
    "#X_train, y_train = next(train_generator)\n",
    "\n",
    "# Extract the X_test and y_test arrays from the testing generator\n",
    "#X_test, y_test = next(test_generator)"
   ]
  },
  {
   "attachments": {},
   "cell_type": "markdown",
   "metadata": {},
   "source": [
    "### Extract X_train, y_train, X_test, y_test for a part of the data. LOOP OVER GENERATOR"
   ]
  },
  {
   "cell_type": "code",
   "execution_count": 29,
   "metadata": {},
   "outputs": [],
   "source": [
    "# Get the number of samples in the training and testing generators\n",
    "train_samples = len(train_generator.filenames)\n",
    "test_samples = len(test_generator.filenames)\n",
    "val_samples = len(val_generator.filenames)\n",
    "\n",
    "# Calculate the number of batches for the training and testing data\n",
    "train_batches = train_samples // 32 + (1 if train_samples % 32 else 0)\n",
    "test_batches = test_samples // 32 + (1 if test_samples % 32 else 0)\n",
    "val_batches = val_samples // 32 + (1 if val_samples % 32 else 0)\n",
    "\n",
    "# Create empty arrays to store the training and testing data\n",
    "X_train = np.zeros((train_samples, 150, 150, 3))\n",
    "y_train = np.zeros((train_samples,))\n",
    "X_test = np.zeros((val_samples, 150, 150, 3))\n",
    "y_test = np.zeros((val_samples,))\n",
    "\"\"\"\n",
    "X_test = np.zeros((test_samples, 150, 150, 3))\n",
    "y_test = np.zeros((test_samples,))\n",
    "\"\"\"\n",
    "\n",
    "# Fill the arrays with the training and testing data\n",
    "for i, (x, y) in enumerate(train_generator):\n",
    "    start = i * 32\n",
    "    end = min(start + 32, train_samples)\n",
    "    X_train[start:end] = x[:end-start]\n",
    "    y_train[start:end] = y[:end-start]\n",
    "    if end == train_samples:\n",
    "        break\n",
    "\"\"\"\n",
    "for i, (x, y) in enumerate(test_generator):\n",
    "    start = i * 32\n",
    "    end = min(start + 32, test_samples)\n",
    "    X_test[start:end] = x[:end-start]\n",
    "    y_test[start:end] = y[:end-start]\n",
    "    if end == test_samples:\n",
    "        break\n",
    "\"\"\"\n",
    "\n",
    "for i, (x, y) in enumerate(val_generator):\n",
    "    start = i * 32\n",
    "    end = min(start + 32, val_samples)\n",
    "    X_test[start:end] = x[:end-start]\n",
    "    y_test[start:end] = y[:end-start]\n",
    "    if end == val_samples:\n",
    "        break\n"
   ]
  },
  {
   "cell_type": "code",
   "execution_count": 30,
   "metadata": {},
   "outputs": [],
   "source": [
    "def preprocess_image(image):\n",
    "    image = tf.image.resize(image, (150, 150))\n",
    "    image = (image - 127.5) / 127.5\n",
    "    return image\n",
    "\n",
    "def create_first_cnn():\n",
    "    model = keras.Sequential()\n",
    "    model.add(keras.layers.Conv2D(32, (3, 3), activation='relu', input_shape=(150, 150, 3)))\n",
    "    model.add(keras.layers.MaxPooling2D((2, 2)))\n",
    "    model.add(keras.layers.Conv2D(64, (3, 3), activation='relu'))\n",
    "    model.add(keras.layers.MaxPooling2D((2, 2)))\n",
    "    model.add(keras.layers.Conv2D(128, (3, 3), activation='relu'))\n",
    "    model.add(keras.layers.MaxPooling2D((2, 2)))\n",
    "    model.add(keras.layers.Flatten())\n",
    "    model.add(keras.layers.Dense(1, activation='sigmoid'))\n",
    "    return model\n",
    "\n",
    "def create_second_cnn():\n",
    "    model = keras.Sequential()\n",
    "    model.add(keras.layers.Conv2D(64, (3, 3), activation='relu', input_shape=(150, 150, 3)))\n",
    "    model.add(keras.layers.MaxPooling2D((2, 2)))\n",
    "    model.add(keras.layers.Conv2D(128, (3, 3), activation='relu'))\n",
    "    model.add(keras.layers.MaxPooling2D((2, 2)))\n",
    "    model.add(keras.layers.Conv2D(256, (3, 3), activation='relu'))\n",
    "    model.add(keras.layers.MaxPooling2D((2, 2)))\n",
    "    model.add(keras.layers.Flatten())\n",
    "    model.add(keras.layers.Dense(1, activation='sigmoid'))\n",
    "    return model\n",
    "\n",
    "def create_cascading_cnn_pipeline(first_cnn, second_cnn):\n",
    "    input_image = keras.Input(shape=(150, 150, 3))\n",
    "    processed_image = keras.layers.Lambda(preprocess_image)(input_image)\n",
    "    first_cnn_output = first_cnn(processed_image)\n",
    "    second_cnn_input = keras.layers.multiply([processed_image, first_cnn_output])\n",
    "    second_cnn_output = second_cnn(second_cnn_input)\n",
    "    return keras.Model(inputs=input_image, outputs=second_cnn_output)"
   ]
  },
  {
   "cell_type": "code",
   "execution_count": 31,
   "metadata": {},
   "outputs": [
    {
     "name": "stdout",
     "output_type": "stream",
     "text": [
      "Model: \"sequential_6\"\n",
      "_________________________________________________________________\n",
      " Layer (type)                Output Shape              Param #   \n",
      "=================================================================\n",
      " conv2d_18 (Conv2D)          (None, 148, 148, 32)      896       \n",
      "                                                                 \n",
      " max_pooling2d_18 (MaxPoolin  (None, 74, 74, 32)       0         \n",
      " g2D)                                                            \n",
      "                                                                 \n",
      " conv2d_19 (Conv2D)          (None, 72, 72, 64)        18496     \n",
      "                                                                 \n",
      " max_pooling2d_19 (MaxPoolin  (None, 36, 36, 64)       0         \n",
      " g2D)                                                            \n",
      "                                                                 \n",
      " conv2d_20 (Conv2D)          (None, 34, 34, 128)       73856     \n",
      "                                                                 \n",
      " max_pooling2d_20 (MaxPoolin  (None, 17, 17, 128)      0         \n",
      " g2D)                                                            \n",
      "                                                                 \n",
      " flatten_6 (Flatten)         (None, 36992)             0         \n",
      "                                                                 \n",
      " dense_6 (Dense)             (None, 1)                 36993     \n",
      "                                                                 \n",
      "=================================================================\n",
      "Total params: 130,241\n",
      "Trainable params: 130,241\n",
      "Non-trainable params: 0\n",
      "_________________________________________________________________\n"
     ]
    }
   ],
   "source": [
    "first_cnn = create_first_cnn()\n",
    "first_cnn.summary()"
   ]
  },
  {
   "cell_type": "code",
   "execution_count": 32,
   "metadata": {},
   "outputs": [
    {
     "name": "stdout",
     "output_type": "stream",
     "text": [
      "Model: \"sequential_7\"\n",
      "_________________________________________________________________\n",
      " Layer (type)                Output Shape              Param #   \n",
      "=================================================================\n",
      " conv2d_21 (Conv2D)          (None, 148, 148, 64)      1792      \n",
      "                                                                 \n",
      " max_pooling2d_21 (MaxPoolin  (None, 74, 74, 64)       0         \n",
      " g2D)                                                            \n",
      "                                                                 \n",
      " conv2d_22 (Conv2D)          (None, 72, 72, 128)       73856     \n",
      "                                                                 \n",
      " max_pooling2d_22 (MaxPoolin  (None, 36, 36, 128)      0         \n",
      " g2D)                                                            \n",
      "                                                                 \n",
      " conv2d_23 (Conv2D)          (None, 34, 34, 256)       295168    \n",
      "                                                                 \n",
      " max_pooling2d_23 (MaxPoolin  (None, 17, 17, 256)      0         \n",
      " g2D)                                                            \n",
      "                                                                 \n",
      " flatten_7 (Flatten)         (None, 73984)             0         \n",
      "                                                                 \n",
      " dense_7 (Dense)             (None, 1)                 73985     \n",
      "                                                                 \n",
      "=================================================================\n",
      "Total params: 444,801\n",
      "Trainable params: 444,801\n",
      "Non-trainable params: 0\n",
      "_________________________________________________________________\n"
     ]
    }
   ],
   "source": [
    "second_cnn = create_second_cnn()\n",
    "second_cnn.summary()"
   ]
  },
  {
   "cell_type": "code",
   "execution_count": 33,
   "metadata": {},
   "outputs": [
    {
     "name": "stdout",
     "output_type": "stream",
     "text": [
      "Epoch 1/10\n"
     ]
    },
    {
     "name": "stderr",
     "output_type": "stream",
     "text": [
      "2023-02-11 10:09:32.298917: I tensorflow/core/grappler/optimizers/custom_graph_optimizer_registry.cc:114] Plugin optimizer for device_type GPU is enabled.\n"
     ]
    },
    {
     "name": "stdout",
     "output_type": "stream",
     "text": [
      "14/14 [==============================] - ETA: 0s - loss: 0.8113 - accuracy: 0.5365"
     ]
    },
    {
     "name": "stderr",
     "output_type": "stream",
     "text": [
      "2023-02-11 10:09:37.431494: I tensorflow/core/grappler/optimizers/custom_graph_optimizer_registry.cc:114] Plugin optimizer for device_type GPU is enabled.\n"
     ]
    },
    {
     "name": "stdout",
     "output_type": "stream",
     "text": [
      "14/14 [==============================] - 6s 386ms/step - loss: 0.8113 - accuracy: 0.5365 - val_loss: 0.7106 - val_accuracy: 0.4915\n",
      "Epoch 2/10\n",
      "14/14 [==============================] - 5s 354ms/step - loss: 0.6926 - accuracy: 0.5506 - val_loss: 0.6948 - val_accuracy: 0.4915\n",
      "Epoch 3/10\n",
      "14/14 [==============================] - 4s 323ms/step - loss: 0.6952 - accuracy: 0.5506 - val_loss: 0.6961 - val_accuracy: 0.4915\n",
      "Epoch 4/10\n",
      "14/14 [==============================] - 5s 335ms/step - loss: 0.6891 - accuracy: 0.5506 - val_loss: 0.6981 - val_accuracy: 0.4915\n",
      "Epoch 5/10\n",
      "14/14 [==============================] - 4s 323ms/step - loss: 0.6906 - accuracy: 0.5506 - val_loss: 0.6974 - val_accuracy: 0.4915\n",
      "Epoch 6/10\n",
      "14/14 [==============================] - 5s 330ms/step - loss: 0.6896 - accuracy: 0.5506 - val_loss: 0.6945 - val_accuracy: 0.4915\n",
      "Epoch 7/10\n",
      "14/14 [==============================] - 5s 334ms/step - loss: 0.6899 - accuracy: 0.5506 - val_loss: 0.6957 - val_accuracy: 0.4915\n",
      "Epoch 8/10\n",
      "14/14 [==============================] - 5s 329ms/step - loss: 0.6889 - accuracy: 0.5506 - val_loss: 0.6996 - val_accuracy: 0.4915\n",
      "Epoch 9/10\n",
      "14/14 [==============================] - 5s 327ms/step - loss: 0.6898 - accuracy: 0.5506 - val_loss: 0.7020 - val_accuracy: 0.4915\n",
      "Epoch 10/10\n",
      "14/14 [==============================] - 5s 330ms/step - loss: 0.6890 - accuracy: 0.5506 - val_loss: 0.6970 - val_accuracy: 0.4915\n"
     ]
    },
    {
     "data": {
      "text/plain": [
       "<keras.callbacks.History at 0x2b3672a70>"
      ]
     },
     "execution_count": 33,
     "metadata": {},
     "output_type": "execute_result"
    }
   ],
   "source": [
    "cascading_cnn = create_cascading_cnn_pipeline(first_cnn, second_cnn)\n",
    "\n",
    "# compile cascading cnn\n",
    "cascading_cnn.compile(optimizer='adam',\n",
    "                loss='binary_crossentropy',\n",
    "                metrics=['accuracy'])\n",
    "\n",
    "# fit cascading cnn\n",
    "#cascading_cnn.fit(X_train, y_train, epochs=10, batch_size=32, validation_data=(X_test, y_test))\n",
    "cascading_cnn.fit(X_train, y_train, epochs=10, batch_size=32, validation_data=val_generator)"
   ]
  },
  {
   "cell_type": "code",
   "execution_count": 34,
   "metadata": {},
   "outputs": [
    {
     "name": "stdout",
     "output_type": "stream",
     "text": [
      "4/4 [==============================] - 0s 89ms/step - loss: 0.6970 - accuracy: 0.4915\n",
      "Test score: 0.697012186050415\n",
      "Test accuracy: 0.49152541160583496\n"
     ]
    }
   ],
   "source": [
    "# evaluate cascading cnn\n",
    "score = cascading_cnn.evaluate(X_test, y_test)\n",
    "\n",
    "print('Test score:', score[0])\n",
    "print('Test accuracy:', score[1])"
   ]
  },
  {
   "cell_type": "code",
   "execution_count": 35,
   "metadata": {},
   "outputs": [
    {
     "name": "stdout",
     "output_type": "stream",
     "text": [
      "1/4 [======>.......................] - ETA: 0s"
     ]
    },
    {
     "name": "stderr",
     "output_type": "stream",
     "text": [
      "2023-02-11 10:10:20.220113: I tensorflow/core/grappler/optimizers/custom_graph_optimizer_registry.cc:114] Plugin optimizer for device_type GPU is enabled.\n"
     ]
    },
    {
     "name": "stdout",
     "output_type": "stream",
     "text": [
      "4/4 [==============================] - 0s 101ms/step\n"
     ]
    },
    {
     "data": {
      "image/png": "[encoded data removed]",
      "text/plain": [
       "<Figure size 800x800 with 2 Axes>"
      ]
     },
     "metadata": {},
     "output_type": "display_data"
    }
   ],
   "source": [
    "# predict on test data\n",
    "y_pred = cascading_cnn.predict(X_test)\n",
    "\n",
    "# convert predictions classes to one hot vectors\n",
    "y_pred_classes = np.argmax(y_pred, axis=1)\n",
    "\n",
    "# compute the confusion matrix\n",
    "confusion_mtx = confusion_matrix(y_test, y_pred_classes)\n",
    "\n",
    "# plot the confusion matrix\n",
    "f, ax = plt.subplots(figsize=(8, 8))\n",
    "sns.heatmap(confusion_mtx, annot=True, linewidths=0.01, cmap=\"Greens\", linecolor=\"gray\", fmt= '.1f', ax=ax)\n",
    "plt.xlabel(\"Predicted Label\")\n",
    "plt.ylabel(\"True Label\")\n",
    "plt.title(\"Confusion Matrix\")\n",
    "plt.show()"
   ]
  },
  {
   "cell_type": "code",
   "execution_count": 36,
   "metadata": {},
   "outputs": [
    {
     "ename": "AttributeError",
     "evalue": "'Functional' object has no attribute 'predict_classes'",
     "output_type": "error",
     "traceback": [
      "\u001b[0;31m---------------------------------------------------------------------------\u001b[0m",
      "\u001b[0;31mAttributeError\u001b[0m                            Traceback (most recent call last)",
      "Cell \u001b[0;32mIn [36], line 4\u001b[0m\n\u001b[1;32m      2\u001b[0m yhat_probs \u001b[39m=\u001b[39m cascading_cnn\u001b[39m.\u001b[39mpredict(X_test, verbose\u001b[39m=\u001b[39m\u001b[39m0\u001b[39m)\n\u001b[1;32m      3\u001b[0m \u001b[39m# predict crisp classes for test set\u001b[39;00m\n\u001b[0;32m----> 4\u001b[0m yhat_classes \u001b[39m=\u001b[39m cascading_cnn\u001b[39m.\u001b[39;49mpredict_classes(X_test, verbose\u001b[39m=\u001b[39m\u001b[39m0\u001b[39m)\n\u001b[1;32m      6\u001b[0m \u001b[39m# reduce to 1d array\u001b[39;00m\n\u001b[1;32m      7\u001b[0m yhat_probs \u001b[39m=\u001b[39m yhat_probs[:, \u001b[39m0\u001b[39m]\n",
      "\u001b[0;31mAttributeError\u001b[0m: 'Functional' object has no attribute 'predict_classes'"
     ]
    }
   ],
   "source": [
    "# predict probabilities for test set\n",
    "yhat_probs = cascading_cnn.predict(X_test, verbose=0)\n",
    "# predict crisp classes for test set\n",
    "yhat_classes = cascading_cnn.predict_classes(X_test, verbose=0)\n",
    "\n",
    "# reduce to 1d array\n",
    "yhat_probs = yhat_probs[:, 0]\n",
    "yhat_classes = yhat_classes[:, 0]\n",
    "\n",
    "# accuracy: (tp + tn) / (p + n)\n",
    "accuracy = accuracy_score(y_test, yhat_classes)\n",
    "print('Accuracy: %f' % accuracy)\n",
    "# precision tp / (tp + fp)\n",
    "precision = precision_score(y_test, yhat_classes)\n",
    "print('Precision: %f' % precision)\n",
    "# recall: tp / (tp + fn)\n",
    "recall = recall_score(y_test, yhat_classes)\n",
    "print('Recall: %f' % recall)\n",
    "# f1: 2 tp / (2 tp + fp + fn)\n",
    "f1 = f1_score(y_test, yhat_classes)\n",
    "print('F1 score: %f' % f1)\n",
    "\n",
    "# kappa\n",
    "kappa = cohen_kappa_score(y_test, yhat_classes)\n",
    "print('Cohens kappa: %f' % kappa)\n",
    "# ROC AUC\n",
    "auc = roc_auc_score(y_test, yhat_probs)\n",
    "print('ROC AUC: %f' % auc)\n",
    "# confusion matrix\n",
    "matrix = confusion_matrix(y_test, yhat_classes)\n",
    "print(matrix)\n",
    "\n",
    "# calculate roc curves\n",
    "fpr, tpr, thresholds = roc_curve(y_test, yhat_probs)\n",
    "# plot the roc curve for the model\n",
    "plt.plot(fpr, tpr, marker='.', label='Cascading CNN')\n",
    "# axis labels\n",
    "plt.xlabel('False Positive Rate')\n",
    "plt.ylabel('True Positive Rate')\n",
    "# show the legend\n",
    "plt.legend()\n",
    "# show the plot\n",
    "plt.show()\n",
    "\n",
    "# calculate precision-recall curve\n",
    "precision, recall, thresholds = precision_recall_curve(y_test, yhat_probs)\n",
    "# plot the precision-recall curve for the model\n",
    "plt.plot(recall, precision, marker='.', label='Cascading CNN')\n",
    "# axis labels\n",
    "plt.xlabel('Recall')\n",
    "plt.ylabel('Precision')\n",
    "# show the legend\n",
    "plt.legend()\n",
    "# show the plot\n",
    "plt.show()"
   ]
  }
 ],
 "metadata": {
  "kernelspec": {
   "display_name": "tensorflow",
   "language": "python",
   "name": "python3"
  },
  "language_info": {
   "codemirror_mode": {
    "name": "ipython",
    "version": 3
   },
   "file_extension": ".py",
   "mimetype": "text/x-python",
   "name": "python",
   "nbconvert_exporter": "python",
   "pygments_lexer": "ipython3",
   "version": "3.10.6"
  },
  "orig_nbformat": 4,
  "vscode": {
   "interpreter": {
    "hash": "4bd624a0593993fe43ac4046b27b898fb2ef75c21c08f81e89e64ea0f51df676"
   }
  }
 },
 "nbformat": 4,
 "nbformat_minor": 2
}
